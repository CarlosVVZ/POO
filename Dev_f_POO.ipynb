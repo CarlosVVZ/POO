{
  "nbformat": 4,
  "nbformat_minor": 0,
  "metadata": {
    "colab": {
      "name": "Dev.f POO.ipynb",
      "provenance": [],
      "authorship_tag": "ABX9TyOcxkwlfugk4J1tKE1VC8x8",
      "include_colab_link": true
    },
    "kernelspec": {
      "name": "python3",
      "display_name": "Python 3"
    },
    "language_info": {
      "name": "python"
    }
  },
  "cells": [
    {
      "cell_type": "markdown",
      "metadata": {
        "id": "view-in-github",
        "colab_type": "text"
      },
      "source": [
        "<a href=\"https://colab.research.google.com/github/CarlosVVZ/POO/blob/main/Dev_f_POO.ipynb\" target=\"_parent\"><img src=\"https://colab.research.google.com/assets/colab-badge.svg\" alt=\"Open In Colab\"/></a>"
      ]
    },
    {
      "cell_type": "code",
      "execution_count": null,
      "metadata": {
        "colab": {
          "base_uri": "https://localhost:8080/"
        },
        "id": "X-v2ZoaWdNMN",
        "outputId": "5f37a1ea-a5fa-48f9-97db-ec97ebb0ba76"
      },
      "outputs": [
        {
          "output_type": "stream",
          "name": "stdout",
          "text": [
            "Vesimir's Name:  Vesimir\n",
            "Vesimir's Hair Color:  Grey\n",
            "Vesimir is Saying:  Vesimir\n"
          ]
        }
      ],
      "source": [
        "class GameCharacter:\n",
        "    \n",
        "    # Frist define class attributes (properties)\n",
        "    weight = 90 \n",
        "    hair_color = 'Grey'\n",
        "    height = 180\n",
        "    name = 'Vesimir'\n",
        "    \n",
        "    # Define a method (function) for printing characters' names\n",
        "    def say(self):\n",
        "        #print(f'Hello, My Name is {self.name}')\n",
        "        return self.name\n",
        "# Object Creation\n",
        "vesimir = GameCharacter()\n",
        "\n",
        "# Access object attributes using the dot notation\n",
        "print(\"Vesimir's Name: \" , vesimir.name)\n",
        "print(\"Vesimir's Hair Color: \", vesimir.hair_color )\n",
        "print(\"Vesimir is Saying: \", vesimir.say() )"
      ]
    },
    {
      "cell_type": "code",
      "source": [
        "class Wizard:\n",
        "  house = \"\"\n",
        "  name = \"\"\n",
        "  \n",
        "\n",
        "  def setName(self,name):\n",
        "    self.name = name;\n",
        "  def getName(self):\n",
        "    return self.name\n",
        "\n",
        "  def setHouse(self,house):\n",
        "    house = house;\n",
        "  def getHouse(self):\n",
        "    return self.house\n",
        "\n",
        "  def expelliarmus(self):\n",
        "    return self.getName()+\" used: Expelliarmus!\"\n",
        "  def wingardium(self):\n",
        "    return self.getName()+\" Says: it's Leviosa, no Leviosá!\";\n",
        "\n",
        "\n",
        "harry = Wizard()\n",
        "harry.setName(\"Harry Potter\")\n",
        "harry.setHouse(\"Griffindor\")\n",
        "print (harry.expelliarmus())\n",
        "\n",
        "\n",
        "hermione = Wizard()\n",
        "hermione.setName(\"Hermione Granger\")\n",
        "hermione.setHouse(\"Griffindor\")\n",
        "print (hermione.wingardium())"
      ],
      "metadata": {
        "colab": {
          "base_uri": "https://localhost:8080/"
        },
        "id": "e2kuG81Fg138",
        "outputId": "02293447-3e0a-462c-c22f-2cf63c634a2d"
      },
      "execution_count": null,
      "outputs": [
        {
          "output_type": "stream",
          "name": "stdout",
          "text": [
            "Harry Potter used: Expelliarmus!\n",
            "Hello, My name is Hermione Granger\n",
            "Hermione Granger Says: it's Leviosa, no Leviosá!\n"
          ]
        }
      ]
    },
    {
      "cell_type": "code",
      "source": [
        "lista = [1,2,3,4]\n",
        "print(lista.pop())"
      ],
      "metadata": {
        "colab": {
          "base_uri": "https://localhost:8080/"
        },
        "id": "XktjnJb5l-kB",
        "outputId": "dd5d9183-4469-4cb4-9f5b-5545871c1e7b"
      },
      "execution_count": null,
      "outputs": [
        {
          "output_type": "stream",
          "name": "stdout",
          "text": [
            "4\n"
          ]
        }
      ]
    },
    {
      "cell_type": "code",
      "source": [
        "class Wizard:\n",
        "\n",
        "  __slots__ = ('name', 'house')\n",
        "\n",
        "  def __init__(self, name, house):\n",
        "        self.name = name\n",
        "        self.house = house\n",
        "\n",
        "  def expelliarmus(self):\n",
        "    return self.name+\" used: Expelliarmus!\"\n",
        "  def wingardium(self):\n",
        "    return self.name+\" Says: it's Leviosa, no Leviosá!\";\n",
        "\n",
        "\n",
        "class Student(Wizard):\n",
        "    def subjects(self):\n",
        "      subjects = [\"Potions\", \"Quidditch\", \"Spells\"]\n",
        "      return subjects\n",
        "\n",
        "harry = Student(\"Harry Potter\", \"Gryffindor\")\n",
        "print (harry.subjects())\n"
      ],
      "metadata": {
        "colab": {
          "base_uri": "https://localhost:8080/"
        },
        "id": "mBNCRT0WoQ8n",
        "outputId": "c79e6446-093c-4655-8329-d1c500f1e527"
      },
      "execution_count": null,
      "outputs": [
        {
          "output_type": "stream",
          "name": "stdout",
          "text": [
            "['Potions', 'Quidditch', 'Spells']\n"
          ]
        }
      ]
    }
  ]
}